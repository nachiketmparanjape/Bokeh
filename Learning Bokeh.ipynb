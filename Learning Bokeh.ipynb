{
 "cells": [
  {
   "cell_type": "code",
   "execution_count": 1,
   "metadata": {
    "collapsed": true
   },
   "outputs": [],
   "source": [
    "from bokeh.plotting import figure\n",
    "from bokeh.io import output_file, show"
   ]
  },
  {
   "cell_type": "code",
   "execution_count": 2,
   "metadata": {
    "collapsed": true
   },
   "outputs": [],
   "source": [
    "#Prepare data\n",
    "x=[1,2,3,4,5]\n",
    "y=[6,7,8,9,10]\n",
    "\n",
    "#Prepare the output file\n",
    "output_file(\"Line.html\")\n",
    "\n",
    "#create a figure object\n",
    "f=figure()\n",
    "\n",
    "#create a line plot\n",
    "f.line(x,y)\n",
    "\n",
    "show(f)"
   ]
  },
  {
   "cell_type": "code",
   "execution_count": 9,
   "metadata": {
    "collapsed": false
   },
   "outputs": [
    {
     "name": "stderr",
     "output_type": "stream",
     "text": [
      "INFO:bokeh.core.state:Session output file 'Line.html' already exists, will be overwritten.\n"
     ]
    }
   ],
   "source": [
    "#Prepare data\n",
    "x=[3,7.5,10]\n",
    "y=[3,6,9]\n",
    "\n",
    "#Prepare the output file\n",
    "output_file(\"Line.html\")\n",
    "\n",
    "#create a figure object\n",
    "f=figure()\n",
    "\n",
    "#create a line plot\n",
    "f.triangle(x,y)\n",
    "\n",
    "show(f)"
   ]
  },
  {
   "cell_type": "code",
   "execution_count": 4,
   "metadata": {
    "collapsed": false
   },
   "outputs": [
    {
     "name": "stderr",
     "output_type": "stream",
     "text": [
      "INFO:bokeh.core.state:Session output file 'Line.html' already exists, will be overwritten.\n"
     ]
    }
   ],
   "source": [
    "#Prepare data\n",
    "x=[3,7.5,10]\n",
    "y=[3,6,9]\n",
    "\n",
    "#Prepare the output file\n",
    "output_file(\"Line.html\")\n",
    "\n",
    "#create a figure object\n",
    "f=figure()\n",
    "\n",
    "#create a line plot\n",
    "f.circle(x,y)\n",
    "\n",
    "show(f)"
   ]
  },
  {
   "cell_type": "markdown",
   "metadata": {},
   "source": [
    "## Using Bokeh with Pandas"
   ]
  },
  {
   "cell_type": "code",
   "execution_count": 6,
   "metadata": {
    "collapsed": true
   },
   "outputs": [],
   "source": [
    "import pandas as pd"
   ]
  },
  {
   "cell_type": "code",
   "execution_count": 14,
   "metadata": {
    "collapsed": false
   },
   "outputs": [],
   "source": [
    "df = pd.read_csv(\"data.csv\")\n",
    "\n",
    "#Prepare the data\n",
    "x = df['x']\n",
    "y = df['y']\n",
    "\n",
    "output_file(\"Line_from_csv.html\")\n",
    "\n",
    "f=figure()\n",
    "f.line(x,y)\n",
    "show(f)"
   ]
  },
  {
   "cell_type": "code",
   "execution_count": 7,
   "metadata": {
    "collapsed": false
   },
   "outputs": [
    {
     "data": {
      "text/html": [
       "<div>\n",
       "<table border=\"1\" class=\"dataframe\">\n",
       "  <thead>\n",
       "    <tr style=\"text-align: right;\">\n",
       "      <th></th>\n",
       "      <th>Year</th>\n",
       "      <th>Agriculture</th>\n",
       "      <th>Architecture</th>\n",
       "      <th>Art and Performance</th>\n",
       "      <th>Biology</th>\n",
       "      <th>Business</th>\n",
       "      <th>Communications and Journalism</th>\n",
       "      <th>Computer Science</th>\n",
       "      <th>Education</th>\n",
       "      <th>Engineering</th>\n",
       "      <th>English</th>\n",
       "      <th>Foreign Languages</th>\n",
       "      <th>Health Professions</th>\n",
       "      <th>Math and Statistics</th>\n",
       "      <th>Physical Sciences</th>\n",
       "      <th>Psychology</th>\n",
       "      <th>Public Administration</th>\n",
       "      <th>Social Sciences and History</th>\n",
       "    </tr>\n",
       "  </thead>\n",
       "  <tbody>\n",
       "    <tr>\n",
       "      <th>0</th>\n",
       "      <td>1970</td>\n",
       "      <td>4.229798</td>\n",
       "      <td>11.921005</td>\n",
       "      <td>59.7</td>\n",
       "      <td>29.088363</td>\n",
       "      <td>9.064439</td>\n",
       "      <td>35.3</td>\n",
       "      <td>13.6</td>\n",
       "      <td>74.535328</td>\n",
       "      <td>0.8</td>\n",
       "      <td>65.570923</td>\n",
       "      <td>73.8</td>\n",
       "      <td>77.1</td>\n",
       "      <td>38.0</td>\n",
       "      <td>13.8</td>\n",
       "      <td>44.4</td>\n",
       "      <td>68.4</td>\n",
       "      <td>36.8</td>\n",
       "    </tr>\n",
       "    <tr>\n",
       "      <th>1</th>\n",
       "      <td>1971</td>\n",
       "      <td>5.452797</td>\n",
       "      <td>12.003106</td>\n",
       "      <td>59.9</td>\n",
       "      <td>29.394403</td>\n",
       "      <td>9.503187</td>\n",
       "      <td>35.5</td>\n",
       "      <td>13.6</td>\n",
       "      <td>74.149204</td>\n",
       "      <td>1.0</td>\n",
       "      <td>64.556485</td>\n",
       "      <td>73.9</td>\n",
       "      <td>75.5</td>\n",
       "      <td>39.0</td>\n",
       "      <td>14.9</td>\n",
       "      <td>46.2</td>\n",
       "      <td>65.5</td>\n",
       "      <td>36.2</td>\n",
       "    </tr>\n",
       "  </tbody>\n",
       "</table>\n",
       "</div>"
      ],
      "text/plain": [
       "   Year  Agriculture  Architecture  Art and Performance    Biology  Business  \\\n",
       "0  1970     4.229798     11.921005                 59.7  29.088363  9.064439   \n",
       "1  1971     5.452797     12.003106                 59.9  29.394403  9.503187   \n",
       "\n",
       "   Communications and Journalism  Computer Science  Education  Engineering  \\\n",
       "0                           35.3              13.6  74.535328          0.8   \n",
       "1                           35.5              13.6  74.149204          1.0   \n",
       "\n",
       "     English  Foreign Languages  Health Professions  Math and Statistics  \\\n",
       "0  65.570923               73.8                77.1                 38.0   \n",
       "1  64.556485               73.9                75.5                 39.0   \n",
       "\n",
       "   Physical Sciences  Psychology  Public Administration  \\\n",
       "0               13.8        44.4                   68.4   \n",
       "1               14.9        46.2                   65.5   \n",
       "\n",
       "   Social Sciences and History  \n",
       "0                         36.8  \n",
       "1                         36.2  "
      ]
     },
     "execution_count": 7,
     "metadata": {},
     "output_type": "execute_result"
    }
   ],
   "source": [
    "df = pd.read_csv(\"http://pythonhow.com/data/bachelors.csv\")\n",
    "df.head(2)"
   ]
  },
  {
   "cell_type": "code",
   "execution_count": 13,
   "metadata": {
    "collapsed": false
   },
   "outputs": [
    {
     "name": "stderr",
     "output_type": "stream",
     "text": [
      "INFO:bokeh.core.state:Session output file 'Engineering_v_Year.html' already exists, will be overwritten.\n",
      "WARNING:C:\\Users\\labuser\\Anaconda2\\lib\\site-packages\\bokeh\\core\\validation\\check.pyc:W-1000 (MISSING_RENDERERS): Plot has no renderers: Plot(id='53d643a2-e311-4ff0-8270-a4efb72cc810', ...)\n",
      "WARNING:C:\\Users\\labuser\\Anaconda2\\lib\\site-packages\\bokeh\\core\\validation\\check.pyc:W-1001 (NO_DATA_RENDERERS): Plot has no data renderers: Plot(id='53d643a2-e311-4ff0-8270-a4efb72cc810', ...)\n"
     ]
    }
   ],
   "source": [
    "x = df['Year']  #Year = x\n",
    "y = df['Engineering'] #Engineering = y\n",
    "\n",
    "output_file(\"Engineering_v_Year.html\")\n",
    "\n",
    "f = figure(title = \"Engineering every Year\", x_axis_label = 'Year', y_axis_label = 'Percent of women in Engineering')\n",
    "f.line(x,y)\n",
    "show(f)"
   ]
  },
  {
   "cell_type": "markdown",
   "metadata": {},
   "source": [
    "### Bekeh Models Interface"
   ]
  },
  {
   "cell_type": "code",
   "execution_count": 14,
   "metadata": {
    "collapsed": false
   },
   "outputs": [
    {
     "name": "stderr",
     "output_type": "stream",
     "text": [
      "INFO:bokeh.core.state:Session output file 'Line_from_models.html' already exists, will be overwritten.\n",
      "WARNING:C:\\Users\\labuser\\Anaconda2\\lib\\site-packages\\bokeh\\core\\validation\\check.pyc:W-1000 (MISSING_RENDERERS): Plot has no renderers: Plot(id='53d643a2-e311-4ff0-8270-a4efb72cc810', ...)\n",
      "WARNING:C:\\Users\\labuser\\Anaconda2\\lib\\site-packages\\bokeh\\core\\validation\\check.pyc:W-1001 (NO_DATA_RENDERERS): Plot has no data renderers: Plot(id='53d643a2-e311-4ff0-8270-a4efb72cc810', ...)\n"
     ]
    }
   ],
   "source": [
    "from bokeh.models.glyphs import Circle\n",
    "from bokeh.models import Plot, ColumnDataSource, Range1d, Grid\n",
    "from bokeh.io import output_file, show, save\n",
    "\n",
    "#Prepare data\n",
    "x=[1,2,3,4,5]\n",
    "y=[6,7,8,9,10]\n",
    "\n",
    "#Prepare the output file\n",
    "output_file(\"Line_from_models.html\")\n",
    "\n",
    "data = ColumnDataSource(dict(x=x,y=y))\n",
    "#create a figure object\n",
    "p = Plot(x_range=Range1d(start=0,end=15),y_range=Range1d(start=0,end=15))\n",
    "\n",
    "#create a line plot\n",
    "circle = Circle(x='x',y='y')\n",
    "\n",
    "p.add_glyph(data,circle)\n",
    "\n",
    "show(p)"
   ]
  },
  {
   "cell_type": "markdown",
   "metadata": {},
   "source": [
    "### Bokeh Charts Interface"
   ]
  },
  {
   "cell_type": "code",
   "execution_count": 19,
   "metadata": {
    "collapsed": false
   },
   "outputs": [
    {
     "name": "stderr",
     "output_type": "stream",
     "text": [
      "WARNING:C:\\Users\\labuser\\Anaconda2\\lib\\site-packages\\bokeh\\core\\validation\\check.pyc:W-1000 (MISSING_RENDERERS): Plot has no renderers: Plot(id='53d643a2-e311-4ff0-8270-a4efb72cc810', ...)\n",
      "WARNING:C:\\Users\\labuser\\Anaconda2\\lib\\site-packages\\bokeh\\core\\validation\\check.pyc:W-1001 (NO_DATA_RENDERERS): Plot has no data renderers: Plot(id='53d643a2-e311-4ff0-8270-a4efb72cc810', ...)\n"
     ]
    }
   ],
   "source": [
    "from bokeh.charts import Scatter\n",
    "from bokeh.io import output_file, show\n",
    "import pandas as pd\n",
    "\n",
    "df = pd.read_csv(\"Data.csv\")\n",
    "\n",
    "p=Scatter(df,\"x\",\"y\")\n",
    "\n",
    "output_file(\"Line_from_charts.html\")\n",
    "\n",
    "show(p)"
   ]
  },
  {
   "cell_type": "code",
   "execution_count": null,
   "metadata": {
    "collapsed": true
   },
   "outputs": [],
   "source": []
  }
 ],
 "metadata": {
  "anaconda-cloud": {},
  "kernelspec": {
   "display_name": "Python [default]",
   "language": "python",
   "name": "python2"
  },
  "language_info": {
   "codemirror_mode": {
    "name": "ipython",
    "version": 2
   },
   "file_extension": ".py",
   "mimetype": "text/x-python",
   "name": "python",
   "nbconvert_exporter": "python",
   "pygments_lexer": "ipython2",
   "version": "2.7.12"
  }
 },
 "nbformat": 4,
 "nbformat_minor": 1
}
